{
 "cells": [
  {
   "cell_type": "code",
   "execution_count": 2,
   "metadata": {},
   "outputs": [
    {
     "name": "stdout",
     "output_type": "stream",
     "text": [
      "type your name shubham\n",
      "hello shubham\n"
     ]
    }
   ],
   "source": [
    "# user input\n",
    "# input function\n",
    "# note : user takes name as a string always\n",
    "\n",
    "name = input(\"type your name \")\n",
    "print(\"hello \" + name)\n"
   ]
  },
  {
   "cell_type": "code",
   "execution_count": 4,
   "metadata": {},
   "outputs": [
    {
     "name": "stdout",
     "output_type": "stream",
     "text": [
      "type your nameshubham\n",
      "hello shubham\n",
      "what is your age25\n",
      "your age is 25\n"
     ]
    }
   ],
   "source": [
    "name = input(\"type your name\")\n",
    "print(\"hello \" + name)\n",
    "\n",
    "age = input(\"what is your age\")\n",
    "print(\"your age is \" + age)"
   ]
  },
  {
   "cell_type": "code",
   "execution_count": 6,
   "metadata": {},
   "outputs": [
    {
     "name": "stdout",
     "output_type": "stream",
     "text": [
      "input your number5\n",
      "input your number here5\n",
      "10\n"
     ]
    }
   ],
   "source": [
    "number1 = int(input(\"input your number\"))\n",
    "number2 = int(input(\"input your number here\"))\n",
    "total_sum = number1 + number2\n",
    "print(total_sum)"
   ]
  },
  {
   "cell_type": "code",
   "execution_count": 7,
   "metadata": {},
   "outputs": [
    {
     "name": "stdout",
     "output_type": "stream",
     "text": [
      "input your number5\n",
      "input your number here5\n",
      "total is 10\n"
     ]
    }
   ],
   "source": [
    "number1 = int(input(\"input your number\"))\n",
    "number2 = int(input(\"input your number here\"))\n",
    "total_sum = number1 + number2\n",
    "print(\"total is \" + str(total_sum))\n",
    "\n",
    "# str function use for change string to integer"
   ]
  },
  {
   "cell_type": "code",
   "execution_count": 8,
   "metadata": {},
   "outputs": [
    {
     "name": "stdout",
     "output_type": "stream",
     "text": [
      "input your number5\n",
      "input your number here5\n",
      "total is 10.0\n"
     ]
    }
   ],
   "source": [
    "# using float\n",
    "\n",
    "number1 = float(input(\"input your number\"))\n",
    "number2 = float(input(\"input your number here\"))\n",
    "total_sum = number1 + number2\n",
    "print(\"total is \" + str(total_sum))\n",
    "\n",
    "# when use float the integer change in floating number"
   ]
  },
  {
   "cell_type": "code",
   "execution_count": 20,
   "metadata": {},
   "outputs": [
    {
     "name": "stdout",
     "output_type": "stream",
     "text": [
      "hello shubham_sharma your age is 25\n"
     ]
    }
   ],
   "source": [
    "# using many variables in one line\n",
    "\n",
    "name, age = \"shubham_sharma\", \"25\"\n",
    "print(\"hello \" + name + \" your age is \" + age)"
   ]
  },
  {
   "cell_type": "code",
   "execution_count": 24,
   "metadata": {},
   "outputs": [
    {
     "name": "stdout",
     "output_type": "stream",
     "text": [
      "hello shubham_sharma your age is 25\n"
     ]
    }
   ],
   "source": [
    "name, age = \"shubham_sharma\", str(25)\n",
    "print(\"hello \" + name + \" your age is \" + age)"
   ]
  },
  {
   "cell_type": "code",
   "execution_count": null,
   "metadata": {},
   "outputs": [],
   "source": []
  }
 ],
 "metadata": {
  "kernelspec": {
   "display_name": "Python 3",
   "language": "python",
   "name": "python3"
  },
  "language_info": {
   "codemirror_mode": {
    "name": "ipython",
    "version": 3
   },
   "file_extension": ".py",
   "mimetype": "text/x-python",
   "name": "python",
   "nbconvert_exporter": "python",
   "pygments_lexer": "ipython3",
   "version": "3.7.6"
  }
 },
 "nbformat": 4,
 "nbformat_minor": 4
}
